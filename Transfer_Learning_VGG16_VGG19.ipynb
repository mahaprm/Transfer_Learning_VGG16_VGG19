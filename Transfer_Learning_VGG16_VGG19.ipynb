{
  "nbformat": 4,
  "nbformat_minor": 0,
  "metadata": {
    "kernelspec": {
      "display_name": "Python 3",
      "language": "python",
      "name": "python3"
    },
    "language_info": {
      "codemirror_mode": {
        "name": "ipython",
        "version": 3
      },
      "file_extension": ".py",
      "mimetype": "text/x-python",
      "name": "python",
      "nbconvert_exporter": "python",
      "pygments_lexer": "ipython3",
      "version": "3.8.5"
    },
    "colab": {
      "name": "Transfer Learning VGG16.ipynb",
      "provenance": [],
      "collapsed_sections": []
    },
    "accelerator": "GPU"
  },
  "cells": [
    {
      "cell_type": "markdown",
      "metadata": {
        "id": "9mzBxXQjMBch"
      },
      "source": [
        "## Transfer Learning VGG 16 and VGG 19 using Keras"
      ]
    },
    {
      "cell_type": "markdown",
      "metadata": {
        "id": "P6xlUDL-MBc4"
      },
      "source": [
        "Please download the dataset from the below url"
      ]
    },
    {
      "cell_type": "code",
      "metadata": {
        "colab": {
          "base_uri": "https://localhost:8080/"
        },
        "id": "ZvYSweSkMBc6",
        "outputId": "88e045c5-ff2a-408f-9590-7f5cb278cac8"
      },
      "source": [
        "import tensorflow as tf \n",
        "\n",
        "if tf.test.gpu_device_name(): \n",
        "    \n",
        "\n",
        "    print('Default GPU Device:{}'.format(tf.test.gpu_device_name()))\n",
        "\n",
        "else:\n",
        "\n",
        "    print(\"Please install GPU version of TF\")"
      ],
      "execution_count": 1,
      "outputs": [
        {
          "output_type": "stream",
          "text": [
            "Default GPU Device:/device:GPU:0\n"
          ],
          "name": "stdout"
        }
      ]
    },
    {
      "cell_type": "code",
      "metadata": {
        "colab": {
          "base_uri": "https://localhost:8080/",
          "height": 35
        },
        "id": "6EFSDBEdMBc-",
        "outputId": "3bb081ce-4ac8-411b-8501-b8fb2ff7cc90"
      },
      "source": [
        "tf.test.gpu_device_name()"
      ],
      "execution_count": 2,
      "outputs": [
        {
          "output_type": "execute_result",
          "data": {
            "application/vnd.google.colaboratory.intrinsic+json": {
              "type": "string"
            },
            "text/plain": [
              "'/device:GPU:0'"
            ]
          },
          "metadata": {
            "tags": []
          },
          "execution_count": 2
        }
      ]
    },
    {
      "cell_type": "code",
      "metadata": {
        "id": "nnbR3eBsMBc_"
      },
      "source": [
        "# import the libraries as shown below\n",
        "\n",
        "from tensorflow.keras.layers import Input, Lambda, Dense, Flatten\n",
        "from tensorflow.keras.models import Model\n",
        "from tensorflow.keras.applications.vgg16 import VGG16\n",
        "from tensorflow.keras.applications.vgg16 import preprocess_input\n",
        "from tensorflow.keras.preprocessing import image\n",
        "from tensorflow.keras.preprocessing.image import ImageDataGenerator,load_img\n",
        "from tensorflow.keras.models import Sequential\n",
        "import numpy as np\n",
        "from glob import glob\n"
      ],
      "execution_count": 3,
      "outputs": []
    },
    {
      "cell_type": "code",
      "metadata": {
        "id": "67A_9K1WMBdA"
      },
      "source": [
        "# re-size all the images to this\n",
        "IMAGE_SIZE = [224, 224]\n",
        "\n",
        "train_path = 'data/train'\n",
        "valid_path = 'data/test'\n"
      ],
      "execution_count": 4,
      "outputs": []
    },
    {
      "cell_type": "code",
      "metadata": {
        "id": "QbBc5R01MBdB"
      },
      "source": [
        "# Import the Vgg 16 library as shown below and add preprocessing layer to the front of VGG\n",
        "# Here we will be using imagenet weights\n",
        "\n",
        "vgg16 = VGG16(input_shape=IMAGE_SIZE + [3], weights='imagenet', include_top=False)\n",
        "\n",
        "\n"
      ],
      "execution_count": 5,
      "outputs": []
    },
    {
      "cell_type": "code",
      "metadata": {
        "id": "VV7_BkquMBdB"
      },
      "source": [
        "# don't train existing weights\n",
        "for layer in vgg16.layers:\n",
        "    layer.trainable = False"
      ],
      "execution_count": 6,
      "outputs": []
    },
    {
      "cell_type": "code",
      "metadata": {
        "id": "6pSvQWEaMBdC"
      },
      "source": [
        "  # useful for getting number of output classes\n",
        "folders = glob('data/train/*')"
      ],
      "execution_count": 7,
      "outputs": []
    },
    {
      "cell_type": "code",
      "metadata": {
        "id": "8ARmdIu3MBdE"
      },
      "source": [
        "# our layers - you can add more if you want\n",
        "x = Flatten()(vgg16.output)"
      ],
      "execution_count": 8,
      "outputs": []
    },
    {
      "cell_type": "code",
      "metadata": {
        "id": "oNOqwzTRMBdF"
      },
      "source": [
        "prediction = Dense(len(folders), activation='softmax')(x)\n",
        "\n",
        "# create a model object\n",
        "model = Model(inputs=vgg16.input, outputs=prediction)"
      ],
      "execution_count": 9,
      "outputs": []
    },
    {
      "cell_type": "code",
      "metadata": {
        "colab": {
          "base_uri": "https://localhost:8080/"
        },
        "id": "GcG3sZ3tMBdF",
        "outputId": "051f5c71-c40c-42e5-c5b4-899ad0353212"
      },
      "source": [
        "\n",
        "# view the structure of the model\n",
        "model.summary()\n"
      ],
      "execution_count": 10,
      "outputs": [
        {
          "output_type": "stream",
          "text": [
            "Model: \"model\"\n",
            "_________________________________________________________________\n",
            "Layer (type)                 Output Shape              Param #   \n",
            "=================================================================\n",
            "input_1 (InputLayer)         [(None, 224, 224, 3)]     0         \n",
            "_________________________________________________________________\n",
            "block1_conv1 (Conv2D)        (None, 224, 224, 64)      1792      \n",
            "_________________________________________________________________\n",
            "block1_conv2 (Conv2D)        (None, 224, 224, 64)      36928     \n",
            "_________________________________________________________________\n",
            "block1_pool (MaxPooling2D)   (None, 112, 112, 64)      0         \n",
            "_________________________________________________________________\n",
            "block2_conv1 (Conv2D)        (None, 112, 112, 128)     73856     \n",
            "_________________________________________________________________\n",
            "block2_conv2 (Conv2D)        (None, 112, 112, 128)     147584    \n",
            "_________________________________________________________________\n",
            "block2_pool (MaxPooling2D)   (None, 56, 56, 128)       0         \n",
            "_________________________________________________________________\n",
            "block3_conv1 (Conv2D)        (None, 56, 56, 256)       295168    \n",
            "_________________________________________________________________\n",
            "block3_conv2 (Conv2D)        (None, 56, 56, 256)       590080    \n",
            "_________________________________________________________________\n",
            "block3_conv3 (Conv2D)        (None, 56, 56, 256)       590080    \n",
            "_________________________________________________________________\n",
            "block3_pool (MaxPooling2D)   (None, 28, 28, 256)       0         \n",
            "_________________________________________________________________\n",
            "block4_conv1 (Conv2D)        (None, 28, 28, 512)       1180160   \n",
            "_________________________________________________________________\n",
            "block4_conv2 (Conv2D)        (None, 28, 28, 512)       2359808   \n",
            "_________________________________________________________________\n",
            "block4_conv3 (Conv2D)        (None, 28, 28, 512)       2359808   \n",
            "_________________________________________________________________\n",
            "block4_pool (MaxPooling2D)   (None, 14, 14, 512)       0         \n",
            "_________________________________________________________________\n",
            "block5_conv1 (Conv2D)        (None, 14, 14, 512)       2359808   \n",
            "_________________________________________________________________\n",
            "block5_conv2 (Conv2D)        (None, 14, 14, 512)       2359808   \n",
            "_________________________________________________________________\n",
            "block5_conv3 (Conv2D)        (None, 14, 14, 512)       2359808   \n",
            "_________________________________________________________________\n",
            "block5_pool (MaxPooling2D)   (None, 7, 7, 512)         0         \n",
            "_________________________________________________________________\n",
            "flatten (Flatten)            (None, 25088)             0         \n",
            "_________________________________________________________________\n",
            "dense (Dense)                (None, 4)                 100356    \n",
            "=================================================================\n",
            "Total params: 14,815,044\n",
            "Trainable params: 100,356\n",
            "Non-trainable params: 14,714,688\n",
            "_________________________________________________________________\n"
          ],
          "name": "stdout"
        }
      ]
    },
    {
      "cell_type": "code",
      "metadata": {
        "id": "RrN24NToMBdG"
      },
      "source": [
        "# tell the model what cost and optimization method to use\n",
        "model.compile(\n",
        "  loss='categorical_crossentropy',\n",
        "  optimizer='adam',\n",
        "  metrics=['accuracy']\n",
        ")\n"
      ],
      "execution_count": 11,
      "outputs": []
    },
    {
      "cell_type": "code",
      "metadata": {
        "id": "5jxjf20jMBdG"
      },
      "source": [
        "# Use the Image Data Generator to import the images from the dataset\n",
        "from tensorflow.keras.preprocessing.image import ImageDataGenerator\n",
        "\n",
        "train_datagen = ImageDataGenerator(rescale = 1./255,\n",
        "                                   shear_range = 0.2,\n",
        "                                   zoom_range = 0.2,\n",
        "                                   horizontal_flip = True)\n",
        "\n",
        "test_datagen = ImageDataGenerator(rescale = 1./255)"
      ],
      "execution_count": 12,
      "outputs": []
    },
    {
      "cell_type": "code",
      "metadata": {
        "id": "zkRYPkgIUPty"
      },
      "source": [
        "class_names = ['backpack', 'footwear', 'glasses', 'watch']"
      ],
      "execution_count": 54,
      "outputs": []
    },
    {
      "cell_type": "code",
      "metadata": {
        "colab": {
          "base_uri": "https://localhost:8080/"
        },
        "id": "Hmrp0g8QMBdH",
        "outputId": "d9ef12d4-d55b-4fea-9dff-cfde18fb8379"
      },
      "source": [
        "# Make sure you provide the same target size as initialied for the image size\n",
        "training_set = train_datagen.flow_from_directory('data/train',\n",
        "                                                 target_size = (224, 224),\n",
        "                                                 batch_size = 32,\n",
        "                                                 class_mode = 'categorical',\n",
        "                                                 classes = class_names)"
      ],
      "execution_count": 55,
      "outputs": [
        {
          "output_type": "stream",
          "text": [
            "Found 475 images belonging to 4 classes.\n"
          ],
          "name": "stdout"
        }
      ]
    },
    {
      "cell_type": "code",
      "metadata": {
        "id": "lfMB92vVMBdH",
        "colab": {
          "base_uri": "https://localhost:8080/"
        },
        "outputId": "1a4130af-e152-4884-f60a-3c53fce5b542"
      },
      "source": [
        "test_set = test_datagen.flow_from_directory('data/test',\n",
        "                                            target_size = (224, 224),\n",
        "                                            batch_size = 32,\n",
        "                                            class_mode = 'categorical',\n",
        "                                            classes = class_names)"
      ],
      "execution_count": 56,
      "outputs": [
        {
          "output_type": "stream",
          "text": [
            "Found 264 images belonging to 4 classes.\n"
          ],
          "name": "stdout"
        }
      ]
    },
    {
      "cell_type": "code",
      "metadata": {
        "colab": {
          "base_uri": "https://localhost:8080/"
        },
        "id": "AudroT_1UrM1",
        "outputId": "83a3143d-45ca-4cf5-84b0-07c465eda219"
      },
      "source": [
        "sum(training_set.classes)"
      ],
      "execution_count": 60,
      "outputs": [
        {
          "output_type": "execute_result",
          "data": {
            "text/plain": [
              "697"
            ]
          },
          "metadata": {
            "tags": []
          },
          "execution_count": 60
        }
      ]
    },
    {
      "cell_type": "code",
      "metadata": {
        "id": "GTkFDS66MBdI",
        "colab": {
          "base_uri": "https://localhost:8080/"
        },
        "outputId": "b229d838-6688-494a-ed03-9a00953c4d07"
      },
      "source": [
        "# fit the model\n",
        "# Run the cell. It will take some time to execute\n",
        "r = model.fit_generator(\n",
        "  training_set,\n",
        "  validation_data=test_set,\n",
        "  epochs=50,\n",
        "  steps_per_epoch=len(training_set),\n",
        "  validation_steps=len(test_set)\n",
        ")"
      ],
      "execution_count": 15,
      "outputs": [
        {
          "output_type": "stream",
          "text": [
            "WARNING:tensorflow:From <ipython-input-15-69229fe26ea3>:8: Model.fit_generator (from tensorflow.python.keras.engine.training) is deprecated and will be removed in a future version.\n",
            "Instructions for updating:\n",
            "Please use Model.fit, which supports generators.\n"
          ],
          "name": "stdout"
        },
        {
          "output_type": "stream",
          "text": [
            "/usr/local/lib/python3.7/dist-packages/PIL/Image.py:932: UserWarning: Palette images with Transparency expressed in bytes should be converted to RGBA images\n",
            "  \"Palette images with Transparency expressed in bytes should be \"\n"
          ],
          "name": "stderr"
        },
        {
          "output_type": "stream",
          "text": [
            "Epoch 1/50\n",
            "15/15 [==============================] - 18s 1s/step - loss: 0.8279 - accuracy: 0.6905 - val_loss: 0.3642 - val_accuracy: 0.8977\n",
            "Epoch 2/50\n",
            "15/15 [==============================] - 15s 1s/step - loss: 0.1869 - accuracy: 0.9432 - val_loss: 0.1618 - val_accuracy: 0.9583\n",
            "Epoch 3/50\n",
            "15/15 [==============================] - 15s 1s/step - loss: 0.0647 - accuracy: 0.9832 - val_loss: 0.1674 - val_accuracy: 0.9545\n",
            "Epoch 4/50\n",
            "15/15 [==============================] - 15s 997ms/step - loss: 0.0361 - accuracy: 0.9895 - val_loss: 0.1647 - val_accuracy: 0.9470\n",
            "Epoch 5/50\n",
            "15/15 [==============================] - 15s 994ms/step - loss: 0.0302 - accuracy: 0.9916 - val_loss: 0.1688 - val_accuracy: 0.9470\n",
            "Epoch 6/50\n",
            "15/15 [==============================] - 15s 1s/step - loss: 0.0236 - accuracy: 0.9937 - val_loss: 0.1584 - val_accuracy: 0.9621\n",
            "Epoch 7/50\n",
            "15/15 [==============================] - 15s 1s/step - loss: 0.0134 - accuracy: 1.0000 - val_loss: 0.1586 - val_accuracy: 0.9583\n",
            "Epoch 8/50\n",
            "15/15 [==============================] - 15s 1s/step - loss: 0.0133 - accuracy: 1.0000 - val_loss: 0.1581 - val_accuracy: 0.9583\n",
            "Epoch 9/50\n",
            "15/15 [==============================] - 15s 1s/step - loss: 0.0136 - accuracy: 0.9979 - val_loss: 0.1528 - val_accuracy: 0.9659\n",
            "Epoch 10/50\n",
            "15/15 [==============================] - 15s 1s/step - loss: 0.0115 - accuracy: 1.0000 - val_loss: 0.1513 - val_accuracy: 0.9583\n",
            "Epoch 11/50\n",
            "15/15 [==============================] - 16s 1s/step - loss: 0.0084 - accuracy: 1.0000 - val_loss: 0.1501 - val_accuracy: 0.9508\n",
            "Epoch 12/50\n",
            "15/15 [==============================] - 15s 1s/step - loss: 0.0068 - accuracy: 1.0000 - val_loss: 0.1445 - val_accuracy: 0.9621\n",
            "Epoch 13/50\n",
            "15/15 [==============================] - 15s 1s/step - loss: 0.0060 - accuracy: 1.0000 - val_loss: 0.1478 - val_accuracy: 0.9621\n",
            "Epoch 14/50\n",
            "15/15 [==============================] - 16s 1s/step - loss: 0.0047 - accuracy: 1.0000 - val_loss: 0.1438 - val_accuracy: 0.9583\n",
            "Epoch 15/50\n",
            "15/15 [==============================] - 15s 1s/step - loss: 0.0037 - accuracy: 1.0000 - val_loss: 0.1501 - val_accuracy: 0.9583\n",
            "Epoch 16/50\n",
            "15/15 [==============================] - 15s 1s/step - loss: 0.0037 - accuracy: 1.0000 - val_loss: 0.1493 - val_accuracy: 0.9583\n",
            "Epoch 17/50\n",
            "15/15 [==============================] - 15s 996ms/step - loss: 0.0046 - accuracy: 1.0000 - val_loss: 0.1407 - val_accuracy: 0.9583\n",
            "Epoch 18/50\n",
            "15/15 [==============================] - 15s 1s/step - loss: 0.0041 - accuracy: 1.0000 - val_loss: 0.1451 - val_accuracy: 0.9545\n",
            "Epoch 19/50\n",
            "15/15 [==============================] - 15s 1s/step - loss: 0.0032 - accuracy: 1.0000 - val_loss: 0.1459 - val_accuracy: 0.9583\n",
            "Epoch 20/50\n",
            "15/15 [==============================] - 16s 1s/step - loss: 0.0034 - accuracy: 1.0000 - val_loss: 0.1476 - val_accuracy: 0.9583\n",
            "Epoch 21/50\n",
            "15/15 [==============================] - 15s 1s/step - loss: 0.0030 - accuracy: 1.0000 - val_loss: 0.1483 - val_accuracy: 0.9583\n",
            "Epoch 22/50\n",
            "15/15 [==============================] - 15s 1s/step - loss: 0.0027 - accuracy: 1.0000 - val_loss: 0.1469 - val_accuracy: 0.9583\n",
            "Epoch 23/50\n",
            "15/15 [==============================] - 15s 1s/step - loss: 0.0025 - accuracy: 1.0000 - val_loss: 0.1492 - val_accuracy: 0.9583\n",
            "Epoch 24/50\n",
            "15/15 [==============================] - 16s 1s/step - loss: 0.0028 - accuracy: 1.0000 - val_loss: 0.1445 - val_accuracy: 0.9583\n",
            "Epoch 25/50\n",
            "15/15 [==============================] - 15s 1s/step - loss: 0.0021 - accuracy: 1.0000 - val_loss: 0.1444 - val_accuracy: 0.9583\n",
            "Epoch 26/50\n",
            "15/15 [==============================] - 16s 1s/step - loss: 0.0023 - accuracy: 1.0000 - val_loss: 0.1458 - val_accuracy: 0.9583\n",
            "Epoch 27/50\n",
            "15/15 [==============================] - 15s 1s/step - loss: 0.0027 - accuracy: 1.0000 - val_loss: 0.1450 - val_accuracy: 0.9621\n",
            "Epoch 28/50\n",
            "15/15 [==============================] - 15s 1s/step - loss: 0.0024 - accuracy: 1.0000 - val_loss: 0.1451 - val_accuracy: 0.9583\n",
            "Epoch 29/50\n",
            "15/15 [==============================] - 15s 999ms/step - loss: 0.0016 - accuracy: 1.0000 - val_loss: 0.1461 - val_accuracy: 0.9583\n",
            "Epoch 30/50\n",
            "15/15 [==============================] - 16s 1s/step - loss: 0.0020 - accuracy: 1.0000 - val_loss: 0.1446 - val_accuracy: 0.9583\n",
            "Epoch 31/50\n",
            "15/15 [==============================] - 15s 1s/step - loss: 0.0017 - accuracy: 1.0000 - val_loss: 0.1465 - val_accuracy: 0.9583\n",
            "Epoch 32/50\n",
            "15/15 [==============================] - 15s 1s/step - loss: 0.0016 - accuracy: 1.0000 - val_loss: 0.1480 - val_accuracy: 0.9583\n",
            "Epoch 33/50\n",
            "15/15 [==============================] - 15s 1s/step - loss: 0.0020 - accuracy: 1.0000 - val_loss: 0.1406 - val_accuracy: 0.9621\n",
            "Epoch 34/50\n",
            "15/15 [==============================] - 15s 1s/step - loss: 0.0015 - accuracy: 1.0000 - val_loss: 0.1419 - val_accuracy: 0.9621\n",
            "Epoch 35/50\n",
            "15/15 [==============================] - 16s 1s/step - loss: 0.0017 - accuracy: 1.0000 - val_loss: 0.1501 - val_accuracy: 0.9583\n",
            "Epoch 36/50\n",
            "15/15 [==============================] - 16s 1s/step - loss: 0.0016 - accuracy: 1.0000 - val_loss: 0.1421 - val_accuracy: 0.9621\n",
            "Epoch 37/50\n",
            "15/15 [==============================] - 15s 989ms/step - loss: 0.0012 - accuracy: 1.0000 - val_loss: 0.1439 - val_accuracy: 0.9583\n",
            "Epoch 38/50\n",
            "15/15 [==============================] - 15s 999ms/step - loss: 0.0012 - accuracy: 1.0000 - val_loss: 0.1465 - val_accuracy: 0.9583\n",
            "Epoch 39/50\n",
            "15/15 [==============================] - 15s 1s/step - loss: 0.0011 - accuracy: 1.0000 - val_loss: 0.1461 - val_accuracy: 0.9583\n",
            "Epoch 40/50\n",
            "15/15 [==============================] - 15s 1s/step - loss: 0.0012 - accuracy: 1.0000 - val_loss: 0.1472 - val_accuracy: 0.9583\n",
            "Epoch 41/50\n",
            "15/15 [==============================] - 15s 1s/step - loss: 0.0011 - accuracy: 1.0000 - val_loss: 0.1487 - val_accuracy: 0.9583\n",
            "Epoch 42/50\n",
            "15/15 [==============================] - 16s 1s/step - loss: 0.0011 - accuracy: 1.0000 - val_loss: 0.1475 - val_accuracy: 0.9583\n",
            "Epoch 43/50\n",
            "15/15 [==============================] - 15s 1s/step - loss: 0.0011 - accuracy: 1.0000 - val_loss: 0.1497 - val_accuracy: 0.9621\n",
            "Epoch 44/50\n",
            "15/15 [==============================] - 15s 1s/step - loss: 9.2390e-04 - accuracy: 1.0000 - val_loss: 0.1531 - val_accuracy: 0.9621\n",
            "Epoch 45/50\n",
            "15/15 [==============================] - 15s 1s/step - loss: 0.0012 - accuracy: 1.0000 - val_loss: 0.1496 - val_accuracy: 0.9583\n",
            "Epoch 46/50\n",
            "15/15 [==============================] - 15s 1s/step - loss: 0.0012 - accuracy: 1.0000 - val_loss: 0.1496 - val_accuracy: 0.9583\n",
            "Epoch 47/50\n",
            "15/15 [==============================] - 15s 1s/step - loss: 9.8230e-04 - accuracy: 1.0000 - val_loss: 0.1471 - val_accuracy: 0.9621\n",
            "Epoch 48/50\n",
            "15/15 [==============================] - 16s 1s/step - loss: 9.8511e-04 - accuracy: 1.0000 - val_loss: 0.1487 - val_accuracy: 0.9621\n",
            "Epoch 49/50\n",
            "15/15 [==============================] - 16s 1s/step - loss: 0.0010 - accuracy: 1.0000 - val_loss: 0.1454 - val_accuracy: 0.9621\n",
            "Epoch 50/50\n",
            "15/15 [==============================] - 16s 1s/step - loss: 0.0010 - accuracy: 1.0000 - val_loss: 0.1479 - val_accuracy: 0.9621\n"
          ],
          "name": "stdout"
        }
      ]
    },
    {
      "cell_type": "code",
      "metadata": {
        "id": "DgIOvXKnMBdJ",
        "colab": {
          "base_uri": "https://localhost:8080/",
          "height": 530
        },
        "outputId": "4cc08390-97bf-47dc-9658-ccb41bf26404"
      },
      "source": [
        "# plot the loss\n",
        "import matplotlib.pyplot as plt\n",
        "plt.plot(r.history['loss'], label='train loss')\n",
        "plt.plot(r.history['val_loss'], label='val loss')\n",
        "plt.legend()\n",
        "plt.show()\n",
        "plt.savefig('LossVal_loss')\n",
        "\n",
        "# plot the accuracy\n",
        "plt.plot(r.history['accuracy'], label='train acc')\n",
        "plt.plot(r.history['val_accuracy'], label='val acc')\n",
        "plt.legend()\n",
        "plt.show()\n",
        "plt.savefig('AccVal_acc')"
      ],
      "execution_count": 16,
      "outputs": [
        {
          "output_type": "display_data",
          "data": {
            "image/png": "[encoded data removed]",
            "text/plain": [
              "<Figure size 432x288 with 1 Axes>"
            ]
          },
          "metadata": {
            "tags": [],
            "needs_background": "light"
          }
        },
        {
          "output_type": "display_data",
          "data": {
            "image/png": "[encoded data removed]",
            "text/plain": [
              "<Figure size 432x288 with 1 Axes>"
            ]
          },
          "metadata": {
            "tags": [],
            "needs_background": "light"
          }
        },
        {
          "output_type": "display_data",
          "data": {
            "text/plain": [
              "<Figure size 432x288 with 0 Axes>"
            ]
          },
          "metadata": {
            "tags": []
          }
        }
      ]
    },
    {
      "cell_type": "code",
      "metadata": {
        "id": "4XOOFb94MBdK"
      },
      "source": [
        "# save it as a h5 file\n",
        "\n",
        "\n",
        "from tensorflow.keras.models import load_model\n",
        "\n",
        "model.save('model_vgg16.h5')"
      ],
      "execution_count": 17,
      "outputs": []
    },
    {
      "cell_type": "code",
      "metadata": {
        "id": "EgqViiJyMBdL"
      },
      "source": [
        ""
      ],
      "execution_count": 17,
      "outputs": []
    },
    {
      "cell_type": "code",
      "metadata": {
        "id": "TcnIMblRMBdL",
        "colab": {
          "base_uri": "https://localhost:8080/"
        },
        "outputId": "8d16d097-d971-42bd-9045-d97186016d47"
      },
      "source": [
        "\n",
        "y_pred = model.predict(test_set)\n"
      ],
      "execution_count": 18,
      "outputs": [
        {
          "output_type": "stream",
          "text": [
            "/usr/local/lib/python3.7/dist-packages/PIL/Image.py:932: UserWarning: Palette images with Transparency expressed in bytes should be converted to RGBA images\n",
            "  \"Palette images with Transparency expressed in bytes should be \"\n"
          ],
          "name": "stderr"
        }
      ]
    },
    {
      "cell_type": "code",
      "metadata": {
        "id": "vUI36i3mMBdL",
        "colab": {
          "base_uri": "https://localhost:8080/"
        },
        "outputId": "cbe6c1b6-2d58-4297-e785-5bf95d0381a3"
      },
      "source": [
        "y_pred"
      ],
      "execution_count": 19,
      "outputs": [
        {
          "output_type": "execute_result",
          "data": {
            "text/plain": [
              "array([[6.0046275e-09, 2.4639914e-07, 9.9999928e-01, 4.5912191e-07],\n",
              "       [1.7698703e-06, 3.0453828e-07, 5.1526250e-09, 9.9999797e-01],\n",
              "       [5.5729374e-06, 1.0927335e-03, 9.9868792e-01, 2.1376327e-04],\n",
              "       ...,\n",
              "       [3.4187906e-07, 9.9998331e-01, 1.6281210e-05, 8.6647397e-08],\n",
              "       [5.3622205e-07, 1.5993197e-09, 1.0045987e-08, 9.9999940e-01],\n",
              "       [9.9999928e-01, 7.4078071e-07, 1.1202449e-08, 3.7085016e-08]],\n",
              "      dtype=float32)"
            ]
          },
          "metadata": {
            "tags": []
          },
          "execution_count": 19
        }
      ]
    },
    {
      "cell_type": "code",
      "metadata": {
        "id": "J5ofK210MBdM"
      },
      "source": [
        "import numpy as np\n",
        "y_pred = np.argmax(y_pred, axis=1)"
      ],
      "execution_count": 20,
      "outputs": []
    },
    {
      "cell_type": "code",
      "metadata": {
        "id": "A2uoEkh4MBdM",
        "colab": {
          "base_uri": "https://localhost:8080/"
        },
        "outputId": "a43db117-9000-4148-c53d-8af92de64203"
      },
      "source": [
        "y_pred"
      ],
      "execution_count": 21,
      "outputs": [
        {
          "output_type": "execute_result",
          "data": {
            "text/plain": [
              "array([2, 3, 2, 3, 0, 0, 0, 3, 2, 1, 0, 3, 2, 1, 1, 0, 0, 2, 0, 1, 3, 0,\n",
              "       0, 0, 2, 0, 1, 3, 0, 3, 1, 2, 3, 3, 0, 3, 3, 0, 3, 2, 3, 0, 2, 0,\n",
              "       0, 1, 0, 1, 3, 1, 1, 1, 2, 3, 3, 0, 2, 0, 2, 1, 1, 3, 3, 0, 0, 0,\n",
              "       2, 0, 3, 0, 1, 2, 1, 0, 0, 1, 0, 2, 3, 1, 2, 3, 3, 3, 1, 2, 3, 3,\n",
              "       3, 1, 2, 1, 0, 1, 0, 1, 3, 1, 0, 2, 0, 1, 3, 0, 0, 2, 0, 1, 2, 3,\n",
              "       2, 3, 2, 2, 2, 1, 2, 3, 1, 3, 0, 3, 1, 3, 2, 3, 3, 0, 3, 3, 1, 2,\n",
              "       1, 0, 1, 3, 1, 2, 1, 0, 3, 1, 1, 3, 2, 1, 0, 1, 0, 2, 3, 1, 2, 1,\n",
              "       3, 1, 0, 3, 0, 2, 0, 1, 3, 0, 0, 0, 1, 1, 3, 3, 0, 1, 0, 2, 2, 2,\n",
              "       0, 1, 2, 3, 2, 2, 1, 2, 1, 0, 1, 0, 3, 1, 0, 2, 0, 2, 2, 3, 2, 2,\n",
              "       0, 1, 1, 2, 1, 2, 0, 0, 1, 2, 3, 1, 1, 2, 1, 1, 2, 0, 2, 2, 1, 1,\n",
              "       2, 0, 3, 1, 3, 2, 1, 1, 2, 2, 0, 1, 2, 3, 3, 3, 3, 3, 3, 0, 3, 0,\n",
              "       0, 3, 3, 2, 1, 0, 1, 3, 1, 3, 1, 2, 2, 3, 0, 0, 3, 2, 2, 1, 3, 0])"
            ]
          },
          "metadata": {
            "tags": []
          },
          "execution_count": 21
        }
      ]
    },
    {
      "cell_type": "code",
      "metadata": {
        "id": "r1A_nhMmMBdN"
      },
      "source": [
        ""
      ],
      "execution_count": 21,
      "outputs": []
    },
    {
      "cell_type": "code",
      "metadata": {
        "id": "kJuOidtFMBdN"
      },
      "source": [
        "from tensorflow.keras.models import load_model\n",
        "from tensorflow.keras.preprocessing import image"
      ],
      "execution_count": 22,
      "outputs": []
    },
    {
      "cell_type": "code",
      "metadata": {
        "id": "M9WSyuveMBdN"
      },
      "source": [
        "model=load_model('model_vgg16.h5')"
      ],
      "execution_count": 23,
      "outputs": []
    },
    {
      "cell_type": "code",
      "metadata": {
        "id": "HI71S9gGMBdO"
      },
      "source": [
        "img=image.load_img('data/train/backpack/00000000.jpg',target_size=(224,224))\n",
        "\n"
      ],
      "execution_count": 40,
      "outputs": []
    },
    {
      "cell_type": "code",
      "metadata": {
        "id": "_M8WswnPMBdP",
        "colab": {
          "base_uri": "https://localhost:8080/"
        },
        "outputId": "8a0577c2-5b9f-4e80-ee23-a4a65cbac390"
      },
      "source": [
        "x=image.img_to_array(img)\n",
        "x"
      ],
      "execution_count": 41,
      "outputs": [
        {
          "output_type": "execute_result",
          "data": {
            "text/plain": [
              "array([[[255., 255., 255.],\n",
              "        [255., 255., 255.],\n",
              "        [255., 255., 255.],\n",
              "        ...,\n",
              "        [255., 255., 255.],\n",
              "        [255., 255., 255.],\n",
              "        [255., 255., 255.]],\n",
              "\n",
              "       [[255., 255., 255.],\n",
              "        [255., 255., 255.],\n",
              "        [255., 255., 255.],\n",
              "        ...,\n",
              "        [255., 255., 255.],\n",
              "        [255., 255., 255.],\n",
              "        [255., 255., 255.]],\n",
              "\n",
              "       [[255., 255., 255.],\n",
              "        [255., 255., 255.],\n",
              "        [255., 255., 255.],\n",
              "        ...,\n",
              "        [255., 255., 255.],\n",
              "        [255., 255., 255.],\n",
              "        [255., 255., 255.]],\n",
              "\n",
              "       ...,\n",
              "\n",
              "       [[255., 255., 255.],\n",
              "        [255., 255., 255.],\n",
              "        [255., 255., 255.],\n",
              "        ...,\n",
              "        [255., 255., 255.],\n",
              "        [255., 255., 255.],\n",
              "        [255., 255., 255.]],\n",
              "\n",
              "       [[255., 255., 255.],\n",
              "        [255., 255., 255.],\n",
              "        [255., 255., 255.],\n",
              "        ...,\n",
              "        [255., 255., 255.],\n",
              "        [255., 255., 255.],\n",
              "        [255., 255., 255.]],\n",
              "\n",
              "       [[255., 255., 255.],\n",
              "        [255., 255., 255.],\n",
              "        [255., 255., 255.],\n",
              "        ...,\n",
              "        [255., 255., 255.],\n",
              "        [255., 255., 255.],\n",
              "        [255., 255., 255.]]], dtype=float32)"
            ]
          },
          "metadata": {
            "tags": []
          },
          "execution_count": 41
        }
      ]
    },
    {
      "cell_type": "code",
      "metadata": {
        "id": "asldXGNiMBdP",
        "colab": {
          "base_uri": "https://localhost:8080/"
        },
        "outputId": "a2f1b48e-e5f2-4a16-9129-4929c3c872cd"
      },
      "source": [
        "x.shape"
      ],
      "execution_count": 42,
      "outputs": [
        {
          "output_type": "execute_result",
          "data": {
            "text/plain": [
              "(224, 224, 3)"
            ]
          },
          "metadata": {
            "tags": []
          },
          "execution_count": 42
        }
      ]
    },
    {
      "cell_type": "code",
      "metadata": {
        "id": "1sRtsAPtMBdP"
      },
      "source": [
        "x=x/255"
      ],
      "execution_count": 43,
      "outputs": []
    },
    {
      "cell_type": "code",
      "metadata": {
        "id": "R7BVlUjVMBdQ",
        "colab": {
          "base_uri": "https://localhost:8080/"
        },
        "outputId": "7ca9c756-f7b8-467e-ebaa-249cfaa7705f"
      },
      "source": [
        "x=np.expand_dims(x,axis=0)\n",
        "img_data=preprocess_input(x)\n",
        "img_data.shape"
      ],
      "execution_count": 44,
      "outputs": [
        {
          "output_type": "execute_result",
          "data": {
            "text/plain": [
              "(1, 224, 224, 3)"
            ]
          },
          "metadata": {
            "tags": []
          },
          "execution_count": 44
        }
      ]
    },
    {
      "cell_type": "code",
      "metadata": {
        "id": "ypbEr846MBdQ"
      },
      "source": [
        "predicted = model.predict(img_data)"
      ],
      "execution_count": 47,
      "outputs": []
    },
    {
      "cell_type": "code",
      "metadata": {
        "id": "S3MKLlEJMBdQ",
        "colab": {
          "base_uri": "https://localhost:8080/"
        },
        "outputId": "ed5844e4-f07a-4e5c-c093-e81158e0ae57"
      },
      "source": [
        "predicted_value=np.argmax(predicted, axis=1)\r\n",
        "predicted_value"
      ],
      "execution_count": 61,
      "outputs": [
        {
          "output_type": "execute_result",
          "data": {
            "text/plain": [
              "array([3])"
            ]
          },
          "metadata": {
            "tags": []
          },
          "execution_count": 61
        }
      ]
    }
  ]
}